{
 "cells": [
  {
   "cell_type": "markdown",
   "metadata": {},
   "source": [
    "## Main Task\n",
    "\n",
    "> We want to investigate if there is a significant association between the type of outcome (Win, Draw, Loss) and whether a match is played at home or away for Arsenal FC."
   ]
  },
  {
   "cell_type": "markdown",
   "metadata": {},
   "source": [
    "We collect data from 30 matches and categorize the outcomes as follows:\n",
    "\n",
    "|          | Win | Draw | Loss | Total |\n",
    "|----------|-----|------|------|-------|\n",
    "| Home     |  15 |    2 |    2 |    19 |\n",
    "| Away     |  13 |    3 |    3 |    19 |\n",
    "| **Total**|  28 |    5 |    5 |    38 |"
   ]
  },
  {
   "cell_type": "markdown",
   "metadata": {},
   "source": [
    "## Why Chi-Square Test For Independence?\n",
    "\n",
    "* **Data Type:** We have categorical data (match outcomes and match location).\n",
    "* **Objective:** We want to determine if there is a significant association between two categorical variables (outcome type and match location).\n",
    "* **Frequency Counts:** The data consists of frequency counts for different categories."
   ]
  },
  {
   "cell_type": "markdown",
   "metadata": {},
   "source": [
    "## Step By Step Solution\n",
    "#### State the Hypotheses:\n",
    "* **Null Hypothesis ($H_0$)**: The type of outcome (Win, Draw, Loss) is independent of the match location (Home, Away).\n",
    "* **Alternative Hypothesis($H_1$)**: The type of outcome (Win, Draw, Loss) is dependent on the match location (Home, Away)."
   ]
  },
  {
   "cell_type": "markdown",
   "metadata": {},
   "source": [
    "#### Observed Frequencies:\n",
    "|          | Win | Draw | Loss | Total |\n",
    "|----------|-----|------|------|-------|\n",
    "| Home     |  15 |    2 |    2 |    19 |\n",
    "| Away     |  13 |    3 |    3 |    19 |\n",
    "| **Total**|  28 |    5 |    5 |    38 |"
   ]
  },
  {
   "cell_type": "markdown",
   "metadata": {},
   "source": [
    "#### Expected Frequencies:\n",
    "To calculate the expected frequencies, we use the formula: $$ E_{ij} = \\frac{ (Row Total_{i})  × (Column Total_{j}) } {Grand Total} $$\n",
    "#### Calculating each expected frequency:\n",
    "$$E_{home,win} = \\frac{19 × 28}{38} = 14$$\n",
    "$$E_{home,draw} = \\frac{19 × 5}{38} = 2.5$$\n",
    "$$E_{home,loss} = \\frac{19 × 5}{38} = 2.5$$\n",
    "$$E_{away,win} = \\frac{19 × 28}{38} = 14$$\n",
    "$$E_{away,draw} = \\frac{19 × 5}{38} = 2.5$$\n",
    "$$E_{away,loss} = \\frac{19 × 5}{38} = 2.5$$\n",
    "\n",
    "The expected frequency table is:\n",
    "|          | Win | Draw | Loss | Total |\n",
    "|----------|-----|------|------|-------|\n",
    "| Home     |  14 |  2.5 |  2.5 |    19 |\n",
    "| Away     |  14 |  2.5 |  2.5 |    19 |\n",
    "| **Total**|  28 |    5 |    5 |    38 |"
   ]
  },
  {
   "cell_type": "markdown",
   "metadata": {},
   "source": [
    "#### Calculating the Chi-Square Statistic\n",
    "The Chi-Square statistic is calculated using the formula: $$ X^2 = \\sum\\frac{(O_{ij} - E_{ij})^2}{E_{ij}} $$\n",
    "##### Plugging in the observed and expected frequencies: \n",
    "$$ X^2 = \\frac{(15 - 14)^2}{14} + \\frac{(2 - 2.5)^2}{2.5} + \\frac{(2 - 2.5)^2}{2.5} + \\frac{(13 - 14)^2}{14} + \\frac{(3 - 2.5)^2}{2.5} + \\frac{(3 - 2.5)^2}{2.5} = 0.5428$$"
   ]
  },
  {
   "cell_type": "markdown",
   "metadata": {},
   "source": [
    "#### Degrees of Freedom and Critical Value\n",
    "Degrees of freedom for the Chi-Square Test for Independence is given by: $$ df = (r - 1) × (c - 1) $$\n",
    "where: \n",
    "* $r$ is the number of rows.\n",
    "* $c$ is the number of columns.\n",
    "\n",
    "In our case: $$ df = (2 - 1) × (3 - 1) = 1 × 2 = 2 $$"
   ]
  },
  {
   "cell_type": "markdown",
   "metadata": {},
   "source": [
    "#### "
   ]
  },
  {
   "cell_type": "markdown",
   "metadata": {},
   "source": [
    "Using a significance level ($\\alpha$) of $0.05$, the critical value from the Chi-Square distribution table for 2 degrees of freedom is approximately $5.991$."
   ]
  },
  {
   "cell_type": "markdown",
   "metadata": {},
   "source": [
    "#### Decision\n",
    "We compare the calculated Chi-Square statistic $X^2 = 0.5428$ with the critical value $5.991$.\n",
    "\n",
    "Since $0.5428 < 5.991$, we **fail to reject** the null hypothesis.  \n",
    "There is not enough evidence to suggest that the type of outcome is dependent on the match location."
   ]
  },
  {
   "cell_type": "markdown",
   "metadata": {},
   "source": [
    "## Python Implementation\n"
   ]
  },
  {
   "cell_type": "code",
   "execution_count": 1,
   "metadata": {},
   "outputs": [
    {
     "name": "stdout",
     "output_type": "stream",
     "text": [
      "Chi-Square Statistic: 0.5428571428571428\n",
      "p-value: 0.7622897307899537\n",
      "Degrees of Freedom: 2\n",
      "Expected Frequencies:\n",
      " [[14.   2.5  2.5]\n",
      " [14.   2.5  2.5]]\n",
      "Fail to reject the null hypothesis (H₀). There is no significant association between match location and match outcome.\n"
     ]
    }
   ],
   "source": [
    "import numpy as np\n",
    "import scipy.stats as stats\n",
    "\n",
    "# Observed frequencies\n",
    "observed = np.array([[15, 2, 2],\n",
    "                     [13, 3, 3]])\n",
    "\n",
    "# Perform the Chi-Square test\n",
    "chi2, p, dof, expected = stats.chi2_contingency(observed)\n",
    "\n",
    "# Output the results\n",
    "print(\"Chi-Square Statistic:\", chi2)\n",
    "print(\"p-value:\", p)\n",
    "print(\"Degrees of Freedom:\", dof)\n",
    "print(\"Expected Frequencies:\\n\", expected)\n",
    "\n",
    "# Interpretation\n",
    "alpha = 0.05\n",
    "if p < alpha:\n",
    "    print(\"Reject the null hypothesis (H₀). There is a significant association between match location and match outcome.\")\n",
    "else:\n",
    "    print(\"Fail to reject the null hypothesis (H₀). There is no significant association between match location and match outcome.\")\n"
   ]
  }
 ],
 "metadata": {
  "kernelspec": {
   "display_name": "Python 3",
   "language": "python",
   "name": "python3"
  },
  "language_info": {
   "codemirror_mode": {
    "name": "ipython",
    "version": 3
   },
   "file_extension": ".py",
   "mimetype": "text/x-python",
   "name": "python",
   "nbconvert_exporter": "python",
   "pygments_lexer": "ipython3",
   "version": "3.12.2"
  }
 },
 "nbformat": 4,
 "nbformat_minor": 2
}
