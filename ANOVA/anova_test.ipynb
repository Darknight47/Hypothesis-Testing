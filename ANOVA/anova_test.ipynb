{
 "cells": [
  {
   "cell_type": "markdown",
   "metadata": {},
   "source": [
    "## Main Task\n",
    "\n",
    "> We want to analyze the performance of Arsenal FC players based on their positions: forwards, midfielders, and defenders."
   ]
  },
  {
   "cell_type": "markdown",
   "metadata": {},
   "source": [
    "We have collected data on the number of goals scored by players in these three positions over a season.  \n",
    "We want to determine if there is a significant difference in the average number of goals scored among the three positions.\n",
    "\n",
    "The data:  \n",
    "* Forwards: [12, 15, 14, 10, 13, 16]\n",
    "* Midfielders: [8, 7, 9, 10, 8, 7]\n",
    "* Defenders: [3, 4, 2, 5, 3, 4]"
   ]
  },
  {
   "cell_type": "markdown",
   "metadata": {},
   "source": [
    "## Why ANOVA test is acceptable here? \n",
    "\n",
    "* We are comparing the mean of three different groups.\n",
    "*  Even though there is a visible difference in the mean goals scored by each group, ANOVA provides a formal statistical test to determine whether these observed differences are statistically significant or could have occurred by random chance."
   ]
  },
  {
   "cell_type": "markdown",
   "metadata": {},
   "source": [
    "## Step By Step Solution\n",
    "\n",
    "#### State the Hypotheses:\n",
    "* Null Hypothesis ($H_0$): $\\mu_{forwards} = \\mu_{midfielders} = \\mu_{defenders}$  \n",
    "The means of the number of goals scored by forwards, midfielders, and defenders are equal.\n",
    "\n",
    "* Alternative Hypothesis ($H_1$): Atleast one $\\mu$ is different."
   ]
  },
  {
   "cell_type": "markdown",
   "metadata": {},
   "source": [
    "#### Significance Level\n",
    "We will use a significance level of α = 0.05. This is a common choice in hypothesis testing because it represents a 5% risk of concluding that a difference exists when there is no actual difference (Type I error)."
   ]
  },
  {
   "cell_type": "markdown",
   "metadata": {},
   "source": [
    "#### Calculate the means\n",
    "* Mean of the forwards ($\\bar X_f$): $$\\bar X_f = \\frac{12 + 15 + 14 + 10 + 13 + 16}{6} = 13.33$$\n",
    "* Mean of the midfielders ($\\bar X_m$): $$\\bar X_m = \\frac{8 + 7 + 9 + 10 + 8 + 7}{6} = 8.17$$\n",
    "* Mean of the defenders ($\\bar X_d$): $$\\bar X_d = \\frac{3 + 4 + 2 + 5 + 3 + 4}{6} = 3.50$$"
   ]
  },
  {
   "cell_type": "markdown",
   "metadata": {},
   "source": [
    "#### Calculate the overall mean\n",
    "$$\\bar X = \\frac{12 + 15 + 14 + 10 + 13 + 16 + 8 + 7 + 9 + 10 + 8 + 7 + 3 + 4 + 2 + 5 + 3 + 4}{18} = 8.33$$"
   ]
  },
  {
   "cell_type": "markdown",
   "metadata": {},
   "source": [
    "#### Sum of Squares Between\n",
    "$$SSB = n_f(\\bar X_f - \\bar X)^2  + n_m(\\bar X_m - \\bar X)^2 + n_d(\\bar X_d - \\bar X)^2$$  \n",
    "where $n_f = n_m = n_d = 6$.\n",
    "\n",
    "$$SSB = 6(13.33 - 8.33)^2  + 6(8.17 - 8.33)^2 + 6(3.50 - 8.33)^2 = 290.00$$ "
   ]
  },
  {
   "cell_type": "markdown",
   "metadata": {},
   "source": [
    "#### Sum of Squares Within\n",
    "$$\n",
    "SSW = \\sum_{i=1}^{k} \\sum_{j=1}^{n_i} (X_{ij} - \\bar{X}_i)^2\n",
    "$$\n",
    "\n",
    "$$\n",
    "SSW_{forward} = (12 - 13.33)^2 + (15 - 13.33)^2 + (14 - 13.33)^2 + (10 - 13.33)^2 + (13 - 13.33)^2 + (16 - 13.33)^2 = 24.70\n",
    "$$\n",
    "\n",
    "$$\n",
    "SSW_{midfielder} = (8 - 8.17)^2 + (7 - 8.17)^2 + (9 - 8.17)^2 + (10 - 8.17)^2 + (8 - 8.17)^2 + (7 - 8.17)^2 = 6.86\n",
    "$$\n",
    "\n",
    "$$\n",
    "SSW_{defenders} = (3 - 3.50)^2 + (4 - 3.50)^2 + (2 - 3.50)^2 + (5 - 3.50)^2 + (3 - 3.50)^2 + (4 - 3.50)^2 = 5.50\n",
    "$$\n",
    "\n",
    "$$\n",
    "SSW_{total} = 24.70 + 6.86 + 5.50 = 37.06\n",
    "$$ "
   ]
  }
 ],
 "metadata": {
  "kernelspec": {
   "display_name": "Python 3",
   "language": "python",
   "name": "python3"
  },
  "language_info": {
   "codemirror_mode": {
    "name": "ipython",
    "version": 3
   },
   "file_extension": ".py",
   "mimetype": "text/x-python",
   "name": "python",
   "nbconvert_exporter": "python",
   "pygments_lexer": "ipython3",
   "version": "3.12.2"
  }
 },
 "nbformat": 4,
 "nbformat_minor": 2
}
