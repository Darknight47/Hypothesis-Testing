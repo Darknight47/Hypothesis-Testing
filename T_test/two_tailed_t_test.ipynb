{
 "cells": [
  {
   "cell_type": "markdown",
   "metadata": {},
   "source": [
    "## Main Task\n",
    "\n",
    ">  We are interested in testing whether the average number of goals scored by Arsenal FC in home matches is significantly different from the average number of goals scored in away matches.  \n",
    "You have the goals scored in each home match and each away match from the previous season."
   ]
  },
  {
   "cell_type": "markdown",
   "metadata": {},
   "source": [
    "We have data from 38 matches of Arsenal FC for the 2023-24 season. The number of home and away goals scored in these matches are as follows:  \n",
    "\n",
    "home_goals = [2, 2, 3, 2, 1, 5, 2, 1, 3, 2, 4, 5, 4, 2, 5, 4, 2, 0, 3, 2, 3, 5, 2]  \n",
    "away_goals = [1, 1, 1, 1, 0, 4, 1, 1, 1, 3, 0, 0, 1, 6, 5, 6, 2, 0, 2, 1, 2, 3, 1]\n",
    "\n",
    "* **Sample mean (home_goals) $\\bar X$**: 2.78 goals per home game.\n",
    "* **Sample mean (away_goals) $\\bar X$**: 1.86 goals per away game. "
   ]
  },
  {
   "cell_type": "markdown",
   "metadata": {},
   "source": [
    "## Why T-Test is acceptable here?\n",
    "\n",
    "* We are comparing the means of two independent groups: goals scored in home matches vs. goals scored in away matches.  \n",
    "* The sample sizes are relatively small (less than 30), and we do not know the population standard deviations.  \n",
    "* The T-test is used to determine if there is a significant difference between the means of two groups, assuming the data follows a normal distribution."
   ]
  },
  {
   "cell_type": "markdown",
   "metadata": {},
   "source": [
    "## Step By Step Solution\n",
    "\n",
    "#### State the Hypotheses:  \n",
    "* **Null Hypothesis (H<sub>0</sub>)**: μ<sub>Home</sub> = μ<sub>Away</sub>  \n",
    "(The average number of goals scored in home matches is equal to the average number of goals scored in away matches)\n",
    "\n",
    "* **Alternative Hypothesis (H<sub>1</sub>)**: μ<sub>Home</sub> $\\neq$ μ<sub>Away</sub>  \n",
    "(Arsenal's average goals per match is different from the league average)  \n",
    "\n",
    "> This is a two-tailed test because we are checking for any difference, not just an increase or decrease.\n",
    "\n",
    "#### Choose the significance level ($\\alpha$)\n",
    "Common significance levels are 0.05, 0.01, and 0.10. We'll use α = 0.05 because it balances the risk of Type I and Type II errors effectively.\n",
    "\n",
    "#### Calculate the Test statistic:\n",
    "The test statistic for a two-sample T-test is calculated as:\n",
    "\n",
    "$$\n",
    "t = \\frac{\\bar{X}_1 - \\bar{X}_2}{\\sqrt{\\frac{s_1^2}{n_1} + \\frac{s_2^2}{n_2}}}\n",
    "$$\n",
    "\n",
    "where:\n",
    "- $\\bar{X}_1$ and $\\bar{X}_2$ are the sample means of the two groups.\n",
    "- $s_1$ and $s_2$ are the sample standard deviations of the two groups.\n",
    "- $n_1$ and $n_2$ are the sample sizes of the two groups. \n",
    "\n",
    "The sample standard deviation of home goals $(s_1)$ is calculated as:\n",
    "\n",
    "$$\n",
    "s_1 = \\sqrt{\\frac{\\sum (x_i - \\bar{X}_1)^2}{n_1 - 1}}\n",
    "$$\n",
    "\n",
    "where:\n",
    "- $x_i$ are the individual sample points.\n",
    "- $\\bar{X}_1$ is the sample mean of home goals.\n",
    "- $n_1$ is the sample size of home goals.\n",
    "\n",
    "##### Calculation of $s_1$(Sample Standard Deviation for Home Goals)\n",
    "$$\n",
    "s_1 = \\sqrt{\\frac{(2-2.7826)^2 + (2-2.7826)^2 + \\cdots + (2-2.7826)^2}{23 - 1}} \\approx 1.4572\n",
    "$$\n",
    "\n",
    "##### Calculation of $s_2$(Sample Standard Deviation for Home Goals)\n",
    "The sample standard deviation of away goals $(s_2)$ is calculated as:\n",
    "\n",
    "$$\n",
    "s_2 = \\sqrt{\\frac{\\sum (x_i - \\bar{X}_2)^2}{n_2 - 1}}\n",
    "$$\n",
    "\n",
    "where:\n",
    "- $x_i$ are the individual sample points.\n",
    "- $\\bar{X}_2$ is the sample mean of away goals.\n",
    "- $n_2$ is the sample size of away goals.\n",
    "\n",
    "$$\n",
    "s_2 = \\sqrt{\\frac{(1-1.8696)^2 + (1-1.8696)^2 + \\cdots + (1-1.8696)^2}{23 - 1}} \\approx 1.7487\n",
    "$$\n",
    "\n",
    "##### Calculation of the Test statistic t\n",
    "The test statistic \\( t \\) is calculated as:\n",
    "\n",
    "$$\n",
    "t = \\frac{\\bar{X}_1 - \\bar{X}_2}{\\sqrt{\\frac{s_1^2}{n_1} + \\frac{s_2^2}{n_2}}}\n",
    "$$\n",
    "\n",
    "Using the given sample means, sample standard deviations, and sample sizes:\n",
    "\n",
    "$$\n",
    "t = \\frac{2.7826 - 1.8696}{\\sqrt{\\frac{1.4572^2}{23} + \\frac{1.7487^2}{23}}} = \\frac{0.913}{\\sqrt{\\frac{2.1235}{23} + \\frac{3.0562}{23}}} = \\frac{0.913}{\\sqrt{0.0923 + 0.1329}} = \\frac{0.913}{\\sqrt{0.2252}} \\approx \\frac{0.913}{0.4746} \\approx 1.922\n",
    "$$\n"
   ]
  },
  {
   "cell_type": "code",
   "execution_count": 4,
   "metadata": {},
   "outputs": [
    {
     "name": "stdout",
     "output_type": "stream",
     "text": [
      "2.782608695652174\n",
      "1.8695652173913044\n"
     ]
    }
   ],
   "source": [
    "import numpy as np \n",
    "\n",
    "home_goals = [2, 2, 3, 2, 1, 5, 2, 1, 3, 2, 4, 5, 4, 2, 5, 4, 2, 0, 3, 2, 3, 5, 2]\n",
    "away_goals = [1, 1, 1, 1, 0, 4, 1, 1, 1, 3, 0, 0, 1, 6, 5, 6, 2, 0, 2, 1, 2, 3, 1]\n",
    "\n",
    "print(np.mean(home_goals))\n",
    "print(np.mean(away_goals))"
   ]
  }
 ],
 "metadata": {
  "kernelspec": {
   "display_name": "Python 3",
   "language": "python",
   "name": "python3"
  },
  "language_info": {
   "codemirror_mode": {
    "name": "ipython",
    "version": 3
   },
   "file_extension": ".py",
   "mimetype": "text/x-python",
   "name": "python",
   "nbconvert_exporter": "python",
   "pygments_lexer": "ipython3",
   "version": "3.12.2"
  }
 },
 "nbformat": 4,
 "nbformat_minor": 2
}
