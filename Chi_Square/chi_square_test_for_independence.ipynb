{
 "cells": [
  {
   "cell_type": "markdown",
   "metadata": {},
   "source": [
    "## Main Task\n",
    "\n",
    "> We want to investigate if there is a significant association between the type of outcome (Win, Draw, Loss) and whether a match is played at home or away for Arsenal FC."
   ]
  },
  {
   "cell_type": "markdown",
   "metadata": {},
   "source": [
    "We collect data from 30 matches and categorize the outcomes as follows:\n",
    "\n",
    "|          | Win | Draw | Loss | Total |\n",
    "|----------|-----|------|------|-------|\n",
    "| Home     |  15 |    2 |    2 |    19 |\n",
    "| Away     |  13 |    3 |    3 |    19 |\n",
    "| **Total**|  28 |    5 |    5 |    38 |"
   ]
  },
  {
   "cell_type": "markdown",
   "metadata": {},
   "source": [
    "## Why Chi-Square Test For Independence?\n",
    "\n",
    "* **Data Type:** We have categorical data (match outcomes and match location).\n",
    "* **Objective:** We want to determine if there is a significant association between two categorical variables (outcome type and match location).\n",
    "* **Frequency Counts:** The data consists of frequency counts for different categories."
   ]
  },
  {
   "cell_type": "markdown",
   "metadata": {},
   "source": [
    "## Step By Step Solution\n",
    "#### State the Hypotheses:\n",
    "* **Null Hypothesis ($H_0$)**: The type of outcome (Win, Draw, Loss) is independent of the match location (Home, Away).\n",
    "* **Alternative Hypothesis($H_1$)**: The type of outcome (Win, Draw, Loss) is dependent on the match location (Home, Away)."
   ]
  },
  {
   "cell_type": "markdown",
   "metadata": {},
   "source": [
    "#### Observed Frequencies:\n",
    "|          | Win | Draw | Loss | Total |\n",
    "|----------|-----|------|------|-------|\n",
    "| Home     |  15 |    2 |    2 |    19 |\n",
    "| Away     |  13 |    3 |    3 |    19 |\n",
    "| **Total**|  28 |    5 |    5 |    38 |"
   ]
  },
  {
   "cell_type": "markdown",
   "metadata": {},
   "source": [
    "#### Expected Frequencies:\n",
    "To calculate the expected frequencies, we use the formula: $$ E_{ij} = \\frac{ (Row Total_{i}) } × 2  $$"
   ]
  }
 ],
 "metadata": {
  "language_info": {
   "name": "python"
  }
 },
 "nbformat": 4,
 "nbformat_minor": 2
}
