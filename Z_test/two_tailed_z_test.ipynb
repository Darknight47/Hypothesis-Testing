{
 "cells": [
  {
   "cell_type": "markdown",
   "metadata": {},
   "source": [
    "## Main Task\n",
    "\n",
    "> We want to test whether Arsenal's average goals per match (sample mean = 2.4) are different from a hypothesized league average (population mean, 𝜇) of 2.0 goals per match."
   ]
  },
  {
   "cell_type": "markdown",
   "metadata": {},
   "source": [
    "We have data from 38 matches of Arsenal FC for the 2023-24 season. The number of goals scored in these matches are as follows:  \n",
    "\n",
    "Goals: [5, 5, 5, 4, 4, 3, 3, 3, 3, 3, 2, 2, 2, 2, 2, 1, 2, 2, 2, 2, 2, 1, 1, 0, 0, 6, 6, 5, 4, 3, 0, 0, 2, 1, 1, 1, 1, 0]\n",
    "\n",
    "* **Sample mean goals $\\bar X$**: 2.4 goals per match. (Calculated from the dataset.)\n",
    "* **Sample size (n)**: 38 matches.  \n",
    "* **Population Standard Deviation (𝜎)**: approximately is 1.2 (*assumed known here*).\n",
    "* **Population mean $\\mu$**: approximately is 2.0"
   ]
  },
  {
   "cell_type": "markdown",
   "metadata": {},
   "source": [
    "## Why Z-Test is acceptable here?  \n",
    "\n",
    "* The sample size is large (𝑛 > 30).  \n",
    "* The population standard deviation (σ) is known."
   ]
  },
  {
   "cell_type": "markdown",
   "metadata": {},
   "source": [
    "## Step By Step Solution  \n",
    "\n",
    "#### State the Hypotheses:  \n",
    "* **Null Hypothesis (H<sub>0</sub>)**: Population mean (μ) = 2.0 (Arsenal's average goals per match is equal to the league average)\n",
    "* **Alternative Hypothesis (H<sub>1</sub>)**: Population mean (μ) $\\neq$ 2.0 (Arsenal's average goals per match is different from the league average)  \n",
    "\n",
    "> This is a two-tailed test because we are checking for any difference, not just an increase or decrease.\n",
    "\n",
    "\n",
    "#### Determine the Significance level:  \n",
    "* **Significance Level(α)**: 0.05. This level is commonly used in hypothesis testing because it provides a balance between Type I error (false positive) and Type II error (false negative). It implies a 5% risk of rejecting the null hypothesis when it is true.  \n",
    "\n",
    "\n",
    "#### Calculate the Z-Score: The Z-score is calculated using the formula:  \n",
    "$$ Z = \\frac{\\bar X - \\mu}{\\frac{𝜎}{\\sqrt(n)}}$$  \n",
    "* Plugging in the values: $$ Z = \\frac{2.4 - 2.0}{\\frac{1.2}{\\sqrt(38)}} = {\\frac{0.4}{0.1945}} ≈ 2.02 $$  \n",
    "\n",
    "\n",
    "#### Determine the critical value (s):\n",
    "For a two-tailed test with $\\alpha = 0.05$, the critical values are approximately $± 1.96$ (from Z-tables or standard normal distribution tables).\n",
    "\n",
    "#### Make the decision\n",
    "* If $|Z| > 1.96$, we **reject** the null hypothesis.\n",
    "* If $|Z| ≤ 1.96$, we **fail to reject** the null hypothesis.\n",
    "\n",
    "In our case, $|Z| = 2.06$, which is greater than $1.96$. \n",
    "\n",
    "#### Conclusion\n",
    "Since $|Z| > 1.96$, we reject the null hypothesis and conclude that there is a significant difference between Arsenal's average goals per match and the hypothesized league average of 2.0 goals per match.\n"
   ]
  },
  {
   "cell_type": "markdown",
   "metadata": {},
   "source": [
    "## Python Implementation"
   ]
  },
  {
   "cell_type": "code",
   "execution_count": 8,
   "metadata": {},
   "outputs": [
    {
     "name": "stdout",
     "output_type": "stream",
     "text": [
      "Sample Mean: 2.3947368421052633\n",
      "Z-score: 2.0277677641345324\n",
      "Critical Z-value: 1.959963984540054\n",
      "Reject the null hypothesis\n"
     ]
    }
   ],
   "source": [
    "import numpy as np\n",
    "from scipy import stats\n",
    "\n",
    "# Data\n",
    "goals = [5, 5, 5, 4, 4, 3, 3, 3, 3, 3, 2, 2, 2, 2, 2, 1, 2, 2, 2, 2, 2, 1, 1, 0, 0, 6, 6, 5, 4, 3, 0, 0, 2, 1, 1, 1, 1, 0]\n",
    "\n",
    "# Sample statistics\n",
    "sample_mean = np.mean(goals)\n",
    "sample_size = len(goals)\n",
    "population_mean = 2.0\n",
    "population_std = 1.2\n",
    "\n",
    "# Z-test\n",
    "z_score = (sample_mean - population_mean) / (population_std / np.sqrt(sample_size))\n",
    "\n",
    "# Two-tailed test, so we get the critical z-value for 0.025 in each tail\n",
    "alpha = 0.05\n",
    "critical_value = stats.norm.ppf(1 - alpha/2)\n",
    "\n",
    "# Print the results\n",
    "print(f\"Sample Mean: {sample_mean}\")\n",
    "print(f\"Z-score: {z_score}\")\n",
    "print(f\"Critical Z-value: {critical_value}\")\n",
    "\n",
    "if abs(z_score) > critical_value:\n",
    "    print(\"Reject the null hypothesis\")\n",
    "else:\n",
    "    print(\"Fail to reject the null hypothesis\")"
   ]
  }
 ],
 "metadata": {
  "kernelspec": {
   "display_name": "Python 3",
   "language": "python",
   "name": "python3"
  },
  "language_info": {
   "codemirror_mode": {
    "name": "ipython",
    "version": 3
   },
   "file_extension": ".py",
   "mimetype": "text/x-python",
   "name": "python",
   "nbconvert_exporter": "python",
   "pygments_lexer": "ipython3",
   "version": "3.12.2"
  }
 },
 "nbformat": 4,
 "nbformat_minor": 2
}
