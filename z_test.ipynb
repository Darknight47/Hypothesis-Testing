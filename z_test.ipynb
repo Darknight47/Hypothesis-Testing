{
 "cells": [
  {
   "cell_type": "markdown",
   "metadata": {},
   "source": [
    "## Main Task\n",
    "\n",
    "> We will test if the average number of goals scored by Arsenal FC in a season is significantly different from **the historical average of 2.1 goals per match** using a two-tailed Z-test."
   ]
  },
  {
   "cell_type": "markdown",
   "metadata": {},
   "source": [
    "We have data from 38 matches of Arsenal FC for the 2023-24 season. The number of goals scored in these matches are as follows:  \n",
    "\n",
    "Goals: [5, 5, 5, 4, 4, 3, 3, 3, 3, 3, 2, 2, 2, 2, 2, 1, 2, 2, 2, 2, 2, 1, 1, 0, 0, 6, 6, 5, 4, 3, 0, 0, 2, 1, 1, 1, 1, 0]\n",
    "\n",
    "* **Sample mean goals (X)**: 2.25 goals per match. (Calculated from the dataset.)\n",
    "* **Population Standard Deviation (𝜎)**: approximately is 1.57 (Calculated by using STD formula, *assumed known here*).\n",
    "* **Sample size (n)**: 38 matches."
   ]
  },
  {
   "cell_type": "markdown",
   "metadata": {},
   "source": [
    "## Why Z-Test is acceptable here?  \n",
    "\n",
    "* The sample size is large (𝑛 > 30).  \n",
    "* The population standard deviation (σ) is known."
   ]
  },
  {
   "cell_type": "markdown",
   "metadata": {},
   "source": [
    "## Step By Step Solution  \n",
    "\n",
    "State the Hypotheses:  \n",
    "* **Null Hypothesis (H<sub>0</sub>)**: μ = 2.1 (The average number of goals is 2.1)\n",
    "* **Alternative Hypothesis (H<sub>1</sub>)**: μ $\\neq$ 2.1 (The average number of goals is NOT 2.1)"
   ]
  },
  {
   "cell_type": "code",
   "execution_count": 1,
   "metadata": {},
   "outputs": [
    {
     "data": {
      "text/plain": [
       "38"
      ]
     },
     "execution_count": 1,
     "metadata": {},
     "output_type": "execute_result"
    }
   ],
   "source": [
    "arr = [5, 5, 5, 4, 4, 3, 3, 3, 3, 3, 2, 2, 2, 2, 2, 1, 2, 2, 2, 2, 2, 1, 1, 0, 0, 6, 6, 5, 4, 3, 0, 0, 2, 1, 1, 1, 1, 0]"
   ]
  }
 ],
 "metadata": {
  "kernelspec": {
   "display_name": "Python 3",
   "language": "python",
   "name": "python3"
  },
  "language_info": {
   "codemirror_mode": {
    "name": "ipython",
    "version": 3
   },
   "file_extension": ".py",
   "mimetype": "text/x-python",
   "name": "python",
   "nbconvert_exporter": "python",
   "pygments_lexer": "ipython3",
   "version": "3.12.2"
  }
 },
 "nbformat": 4,
 "nbformat_minor": 2
}
